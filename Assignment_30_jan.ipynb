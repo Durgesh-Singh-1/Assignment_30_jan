{
 "cells": [
  {
   "cell_type": "code",
   "execution_count": 1,
   "id": "d63b18eb-03f1-4e4a-815f-f02052334245",
   "metadata": {},
   "outputs": [],
   "source": [
    "# 1.ans :-"
   ]
  },
  {
   "cell_type": "code",
   "execution_count": 2,
   "id": "6e9b0335-d20d-48b7-836e-896106bc0ba6",
   "metadata": {},
   "outputs": [
    {
     "name": "stdin",
     "output_type": "stream",
     "text": [
      "Enter your marks 91\n"
     ]
    },
    {
     "name": "stdout",
     "output_type": "stream",
     "text": [
      "your Grade is : A \n"
     ]
    }
   ],
   "source": [
    "marks = int(input(\"Enter your marks\"))\n",
    "if marks > 90 :\n",
    "    print(\"your Grade is : A \")\n",
    "elif marks > 80 and marks <= 90 :\n",
    "     print(\"your Grade is : B \")\n",
    "elif marks >= 60 and marks <= 80 :\n",
    "     print(\"your Grade is : C \")\n",
    "elif marks < 60 :\n",
    "     print(\"your Grade is : D \")"
   ]
  },
  {
   "cell_type": "code",
   "execution_count": 3,
   "id": "72aa02bf-bb9f-4050-bab7-7ef1c5f7753e",
   "metadata": {},
   "outputs": [],
   "source": [
    "# 2.ans :-"
   ]
  },
  {
   "cell_type": "code",
   "execution_count": 5,
   "id": "8b891f0a-1275-4533-9cee-ae5d7618c82e",
   "metadata": {},
   "outputs": [
    {
     "name": "stdin",
     "output_type": "stream",
     "text": [
      "enter your bike cost  1000000\n"
     ]
    },
    {
     "name": "stdout",
     "output_type": "stream",
     "text": [
      "your tax on bike : 15 \n",
      "your total bike cost =  1150000.0\n"
     ]
    }
   ],
   "source": [
    "cost = int(input(\"enter your bike cost \"))\n",
    "if cost > 100000 :\n",
    "    print(\"your tax on bike : 15 \")\n",
    "    total_cost = (cost * 15)/100 + cost\n",
    "    print(\"your total bike cost = \",total_cost)\n",
    "elif cost > 50000 and cost <= 100000 :\n",
    "    print(\"your tax on bike : 10 \")\n",
    "    total_cost = (cost * 10)/100 + cost\n",
    "    print(\"your total bike cost = \", total_cost)\n",
    "elif cost <= 50000 :\n",
    "    print(\"your tax on bike : 5 \")\n",
    "    total_cost = (cost * 5)/100 + cost\n",
    "    print(\"your total bike cost = \",total_cost)"
   ]
  },
  {
   "cell_type": "code",
   "execution_count": 2,
   "id": "0bc9d739-0d1a-4291-aa2c-33d11a3ff8e9",
   "metadata": {},
   "outputs": [],
   "source": [
    "# 3.ans:-"
   ]
  },
  {
   "cell_type": "code",
   "execution_count": 4,
   "id": "827a24c8-bbd9-49ea-b003-a1e9046e7441",
   "metadata": {},
   "outputs": [
    {
     "name": "stdin",
     "output_type": "stream",
     "text": [
      "Enter city name of these :-  Delhi ,Agra ,Jaipur - delhi\n"
     ]
    },
    {
     "name": "stdout",
     "output_type": "stream",
     "text": [
      "Red Ford\n"
     ]
    }
   ],
   "source": [
    "city = input(\"Enter city name of these :-  Delhi ,Agra ,Jaipur -\")\n",
    "if city == \"DELHI\" or city ==\"delhi\" or city == \"Delhi\" :\n",
    "    print(\"Red Ford\")\n",
    "elif city == \"AGRA\" or city == \"agra\" or city == \"Agra\" :\n",
    "    print(\"taj Mahal\")\n",
    "elif city == \"JAIPUR\" or city == \"jaipur\"or city == \"Jaipur\" :\n",
    "    print(\"Jai Mahal\")\n",
    "else :\n",
    "    print(\"Try Again\")"
   ]
  },
  {
   "cell_type": "code",
   "execution_count": 6,
   "id": "b02e9fa1-c1fa-4a7b-b4b7-9e008329e0b7",
   "metadata": {},
   "outputs": [],
   "source": [
    "# 4.ans :-"
   ]
  },
  {
   "cell_type": "code",
   "execution_count": 1,
   "id": "d9c4996a-6a6b-4820-b82f-a9fae06d4936",
   "metadata": {},
   "outputs": [
    {
     "name": "stdin",
     "output_type": "stream",
     "text": [
      "Enter a number 1080\n"
     ]
    },
    {
     "name": "stdout",
     "output_type": "stream",
     "text": [
      "5\n"
     ]
    }
   ],
   "source": [
    "number = int(input(\"Enter a number\"))\n",
    "count = 0 \n",
    "while number > 10 :\n",
    "    number = number / 3\n",
    "    count += 1\n",
    "print(count)"
   ]
  },
  {
   "cell_type": "code",
   "execution_count": 8,
   "id": "51a83aa6-4344-40fb-bccb-27b9e22adfa3",
   "metadata": {},
   "outputs": [],
   "source": [
    "# 5.ans :-"
   ]
  },
  {
   "cell_type": "code",
   "execution_count": 2,
   "id": "5bf0dc58-4145-40b9-a51c-c2e5642332c2",
   "metadata": {},
   "outputs": [
    {
     "data": {
      "text/plain": [
       "'while loop is used to repeatedly ececute a block of \\ncode as long as the condition specified in the while statement \\nis true.\\nsyntax :-\\nwhile condetion :\\n  # code to be eexcuted '"
      ]
     },
     "execution_count": 2,
     "metadata": {},
     "output_type": "execute_result"
    }
   ],
   "source": [
    "\"\"\"while loop is used to repeatedly ececute a block of \n",
    "code as long as the condition specified in the while statement \n",
    "is true.\n",
    "syntax :-\n",
    "while condetion :\n",
    "  # code to be eexcuted \"\"\" "
   ]
  },
  {
   "cell_type": "code",
   "execution_count": 3,
   "id": "295b923c-c156-4591-84b1-d472d5c0f1c3",
   "metadata": {},
   "outputs": [
    {
     "name": "stdout",
     "output_type": "stream",
     "text": [
      "Durgesh Singh\n",
      "Durgesh Singh\n",
      "Durgesh Singh\n",
      "Durgesh Singh\n",
      "Durgesh Singh\n",
      "Durgesh Singh\n",
      "Durgesh Singh\n",
      "Durgesh Singh\n",
      "Durgesh Singh\n",
      "Durgesh Singh\n"
     ]
    }
   ],
   "source": [
    "## Example :\n",
    "a = 10 \n",
    "while a > 0 :\n",
    "    print(\"Durgesh Singh\")\n",
    "    a -= 1"
   ]
  },
  {
   "cell_type": "code",
   "execution_count": 4,
   "id": "dfc9928a-1c0f-480e-9889-7793a0b191df",
   "metadata": {},
   "outputs": [],
   "source": [
    "# 6 ans :-"
   ]
  },
  {
   "cell_type": "code",
   "execution_count": 5,
   "id": "923181b2-1b77-416e-9e42-d8e7196aac61",
   "metadata": {},
   "outputs": [
    {
     "name": "stdout",
     "output_type": "stream",
     "text": [
      "0 0\n",
      "1 1\n",
      "2 2\n",
      "3 3\n",
      "4 4\n",
      "5 5\n",
      "6 6\n",
      "7 7\n",
      "8 8\n",
      "9 9\n"
     ]
    }
   ],
   "source": [
    "# pattern 1:\n",
    "i = 0 \n",
    "j = 0 \n",
    "while i < 10:\n",
    "    while j < 10 :\n",
    "        print(i,j)\n",
    "        i += 1\n",
    "        j += 1 "
   ]
  },
  {
   "cell_type": "code",
   "execution_count": 6,
   "id": "dbb993db-163d-4cd7-a39d-53c67c51bc96",
   "metadata": {},
   "outputs": [
    {
     "name": "stdout",
     "output_type": "stream",
     "text": [
      " *  \n",
      " *   *  \n",
      " *   *   *  \n",
      " *   *   *   *  \n",
      " *   *   *   *   *  \n"
     ]
    }
   ],
   "source": [
    "# pattern 2\n",
    "i = 1 \n",
    "while i <= 5 :\n",
    "    j =  1 \n",
    "    while j <= i :\n",
    "        print(\" * \", end = \" \")\n",
    "        j +=1\n",
    "    print(\"\")\n",
    "    i += 1"
   ]
  },
  {
   "cell_type": "code",
   "execution_count": 7,
   "id": "bbd08a1a-0beb-4c6e-ad5a-e9e7a04c3768",
   "metadata": {},
   "outputs": [
    {
     "name": "stdout",
     "output_type": "stream",
     "text": [
      "1  *  1  =  1\n",
      "1  *  2  =  2\n",
      "1  *  3  =  3\n",
      "1  *  4  =  4\n",
      "1  *  5  =  5\n",
      "1  *  6  =  6\n",
      "1  *  7  =  7\n",
      "1  *  8  =  8\n",
      "1  *  9  =  9\n",
      "1  *  10  =  10\n",
      "\n",
      "2  *  1  =  2\n",
      "2  *  2  =  4\n",
      "2  *  3  =  6\n",
      "2  *  4  =  8\n",
      "2  *  5  =  10\n",
      "2  *  6  =  12\n",
      "2  *  7  =  14\n",
      "2  *  8  =  16\n",
      "2  *  9  =  18\n",
      "2  *  10  =  20\n",
      "\n"
     ]
    }
   ],
   "source": [
    "# pattern 3 :\n",
    "i = 1\n",
    "while i<= 2 :\n",
    "    j = 1\n",
    "    while j <= 10 :\n",
    "        result = i * j \n",
    "        print(i ,\" * \" , j, \" = \", result ,)\n",
    "        j += 1\n",
    "    print(\"\")\n",
    "    i += 1"
   ]
  },
  {
   "cell_type": "code",
   "execution_count": 8,
   "id": "26def1b5-96fa-47e8-a407-a2d50fcd8d89",
   "metadata": {},
   "outputs": [],
   "source": [
    "# 7 and 8 ans :-"
   ]
  },
  {
   "cell_type": "code",
   "execution_count": 9,
   "id": "642684bb-d08a-40a8-a7a6-d940ea1c8a01",
   "metadata": {},
   "outputs": [
    {
     "name": "stdout",
     "output_type": "stream",
     "text": [
      "10\n",
      "9\n",
      "8\n",
      "7\n",
      "6\n",
      "5\n",
      "4\n",
      "3\n",
      "2\n",
      "1\n"
     ]
    }
   ],
   "source": [
    "#reverse number from 10 to 1 :\n",
    "n = 10 \n",
    "while n > 0 :\n",
    "    print(n)\n",
    "    n -= 1"
   ]
  },
  {
   "cell_type": "code",
   "execution_count": null,
   "id": "fea2325f-4f80-445a-89fe-c8ab984a92d8",
   "metadata": {},
   "outputs": [],
   "source": []
  }
 ],
 "metadata": {
  "kernelspec": {
   "display_name": "Python 3 (ipykernel)",
   "language": "python",
   "name": "python3"
  },
  "language_info": {
   "codemirror_mode": {
    "name": "ipython",
    "version": 3
   },
   "file_extension": ".py",
   "mimetype": "text/x-python",
   "name": "python",
   "nbconvert_exporter": "python",
   "pygments_lexer": "ipython3",
   "version": "3.10.8"
  }
 },
 "nbformat": 4,
 "nbformat_minor": 5
}
